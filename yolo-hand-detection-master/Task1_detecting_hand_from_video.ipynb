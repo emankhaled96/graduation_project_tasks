{
 "cells": [
  {
   "cell_type": "code",
   "execution_count": null,
   "metadata": {},
   "outputs": [],
   "source": [
    "import argparse\n",
    "import cv2\n",
    "import glob\n",
    "import os\n",
    "from yolo import YOLO\n"
   ]
  },
  {
   "cell_type": "code",
   "execution_count": null,
   "metadata": {},
   "outputs": [],
   "source": [
    "class DETECT_HAND_FROM_VIDEO:\n",
    "    def reading_video(filename):\n",
    "        ap = argparse.ArgumentParser()\n",
    "        ap.add_argument('-n', '--network', default=\"normal\", help='Network Type: normal / tiny / prn / v4-tiny')\n",
    "        ap.add_argument('-d', '--device', default=0, help='Device to use')\n",
    "        ap.add_argument('-v', '--videos', default=\"videos\", help='Path to videos or video file')\n",
    "        ap.add_argument('-s', '--size', default=416, help='Size for yolo')\n",
    "        ap.add_argument('-c', '--confidence', default=0.2, help='Confidence for yolo')\n",
    "        ap.add_argument(\"-f\", \"--fff\", help=\"a dummy argument to fool ipython\", default=\"1\")\n",
    "        args = ap.parse_args()\n",
    "        if args.network == \"normal\":\n",
    "            print(\"loading yolo...\")\n",
    "            yolo = YOLO(\"models/cross-hands.cfg\", \"models/cross-hands.weights\", [\"hand\"])\n",
    "        elif args.network == \"prn\":\n",
    "            print(\"loading yolo-tiny-prn...\")\n",
    "            yolo = YOLO(\"models/cross-hands-tiny-prn.cfg\", \"models/cross-hands-tiny-prn.weights\", [\"hand\"])\n",
    "        elif args.network == \"v4-tiny\":\n",
    "            print(\"loading yolov4-tiny-prn...\")\n",
    "            yolo = YOLO(\"models/cross-hands-yolov4-tiny.cfg\", \"models/cross-hands-yolov4-tiny.weights\", [\"hand\"])\n",
    "        else:\n",
    "            print(\"loading yolo-tiny...\")\n",
    "            yolo = YOLO(\"models/cross-hands-tiny.cfg\", \"models/cross-hands-tiny.weights\", [\"hand\"])\n",
    "\n",
    "        yolo.size = int(args.size)\n",
    "        yolo.confidence = float(args.confidence)\n",
    "        \n",
    "        # opening a window called preview \n",
    "        cv2.namedWindow(\"preview\")\n",
    "        # to open and capture frames from video\n",
    "        vc = cv2.VideoCapture(filename) \n",
    "        if vc.isOpened():  # try to get the first frame\n",
    "            rval, frame = vc.read()\n",
    "            # to get the first frame\n",
    "        else:\n",
    "            # some error causes the video to not open\n",
    "            rval = False\n",
    "        while rval:\n",
    "            # Applying YOLO on the frames\n",
    "            width, height, inference_time, results = yolo.inference(frame)\n",
    "            for detection in results:\n",
    "                id, name, confidence, x, y, w, h = detection\n",
    "                cx = x + (w / 2)\n",
    "                cy = y + (h / 2)\n",
    "                # draw a bounding box rectangle and label on the image\n",
    "                color = (0, 255, 255)\n",
    "                cv2.rectangle(frame, (x, y), (x + w, y + h), color, 2) \n",
    "                text = \"%s (%s)\" % (name, round(confidence, 2))\n",
    "                # put a text on the detected hand with the confidence ratio\n",
    "                cv2.putText(frame, text, (x, y - 5), cv2.FONT_HERSHEY_SIMPLEX,0.5, color, 2)\n",
    "                cv2.imshow(\"preview\", frame)\n",
    "                rval, frame = vc.read()\n",
    "                # to close the window we need to click on the ESC button\n",
    "                key = cv2.waitKey(20)\n",
    "                if key == 27:  # exit on ESC\n",
    "                    break\n",
    "        cv2.destroyWindow(\"preview\")\n",
    "        vc.release()\n",
    "    \n",
    "      "
   ]
  },
  {
   "cell_type": "code",
   "execution_count": 4,
   "metadata": {},
   "outputs": [
    {
     "ename": "NameError",
     "evalue": "name 'yolo' is not defined",
     "output_type": "error",
     "traceback": [
      "\u001b[0;31m---------------------------------------------------------------------------\u001b[0m",
      "\u001b[0;31mNameError\u001b[0m                                 Traceback (most recent call last)",
      "\u001b[0;32m<ipython-input-4-34dba0039fad>\u001b[0m in \u001b[0;36m<module>\u001b[0;34m\u001b[0m\n\u001b[1;32m      1\u001b[0m \u001b[0mhand\u001b[0m \u001b[0;34m=\u001b[0m \u001b[0mDETECT_HAND_FROM_VIDEO\u001b[0m\u001b[0;34m\u001b[0m\u001b[0m\n\u001b[0;32m----> 2\u001b[0;31m \u001b[0mhand\u001b[0m\u001b[0;34m.\u001b[0m\u001b[0mreading_video\u001b[0m\u001b[0;34m(\u001b[0m\u001b[0;34m)\u001b[0m\u001b[0;34m\u001b[0m\u001b[0m\n\u001b[0m",
      "\u001b[0;32m<ipython-input-3-7cc852011d87>\u001b[0m in \u001b[0;36mreading_video\u001b[0;34m()\u001b[0m\n\u001b[1;32m      9\u001b[0m             \u001b[0mrval\u001b[0m \u001b[0;34m=\u001b[0m \u001b[0;32mFalse\u001b[0m\u001b[0;34m\u001b[0m\u001b[0m\n\u001b[1;32m     10\u001b[0m         \u001b[0;32mwhile\u001b[0m \u001b[0mrval\u001b[0m\u001b[0;34m:\u001b[0m\u001b[0;34m\u001b[0m\u001b[0m\n\u001b[0;32m---> 11\u001b[0;31m             \u001b[0mwidth\u001b[0m\u001b[0;34m,\u001b[0m \u001b[0mheight\u001b[0m\u001b[0;34m,\u001b[0m \u001b[0minference_time\u001b[0m\u001b[0;34m,\u001b[0m \u001b[0mresults\u001b[0m \u001b[0;34m=\u001b[0m \u001b[0myolo\u001b[0m\u001b[0;34m.\u001b[0m\u001b[0minference\u001b[0m\u001b[0;34m(\u001b[0m\u001b[0mframe\u001b[0m\u001b[0;34m)\u001b[0m\u001b[0;34m\u001b[0m\u001b[0m\n\u001b[0m\u001b[1;32m     12\u001b[0m             \u001b[0;32mfor\u001b[0m \u001b[0mdetection\u001b[0m \u001b[0;32min\u001b[0m \u001b[0mresults\u001b[0m\u001b[0;34m:\u001b[0m\u001b[0;34m\u001b[0m\u001b[0m\n\u001b[1;32m     13\u001b[0m                 \u001b[0mid\u001b[0m\u001b[0;34m,\u001b[0m \u001b[0mname\u001b[0m\u001b[0;34m,\u001b[0m \u001b[0mconfidence\u001b[0m\u001b[0;34m,\u001b[0m \u001b[0mx\u001b[0m\u001b[0;34m,\u001b[0m \u001b[0my\u001b[0m\u001b[0;34m,\u001b[0m \u001b[0mw\u001b[0m\u001b[0;34m,\u001b[0m \u001b[0mh\u001b[0m \u001b[0;34m=\u001b[0m \u001b[0mdetection\u001b[0m\u001b[0;34m\u001b[0m\u001b[0m\n",
      "\u001b[0;31mNameError\u001b[0m: name 'yolo' is not defined"
     ]
    }
   ],
   "source": [
    "hand = DETECT_HAND_FROM_VIDEO\n",
    "hand.reading_video()"
   ]
  },
  {
   "cell_type": "code",
   "execution_count": null,
   "metadata": {},
   "outputs": [],
   "source": []
  }
 ],
 "metadata": {
  "kernelspec": {
   "display_name": "Python 3",
   "language": "python",
   "name": "python3"
  },
  "language_info": {
   "codemirror_mode": {
    "name": "ipython",
    "version": 3
   },
   "file_extension": ".py",
   "mimetype": "text/x-python",
   "name": "python",
   "nbconvert_exporter": "python",
   "pygments_lexer": "ipython3",
   "version": "3.6.6"
  }
 },
 "nbformat": 4,
 "nbformat_minor": 4
}
